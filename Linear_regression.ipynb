{
 "metadata": {
  "language_info": {
   "codemirror_mode": {
    "name": "ipython",
    "version": 3
   },
   "file_extension": ".py",
   "mimetype": "text/x-python",
   "name": "python",
   "nbconvert_exporter": "python",
   "pygments_lexer": "ipython3",
   "version": 3
  },
  "orig_nbformat": 2,
  "kernelspec": {
   "name": "python_defaultSpec_1597025164333",
   "display_name": "Python 3.8.4 64-bit"
  }
 },
 "nbformat": 4,
 "nbformat_minor": 2,
 "cells": [
  {
   "cell_type": "code",
   "execution_count": 1,
   "metadata": {},
   "outputs": [],
   "source": [
    "import pandas as pd\n",
    "import numpy as np\n",
    "import matplotlib.pyplot as plt\n",
    "import seaborn as sns\n",
    "\n",
    "import statsmodels.api as sm\n",
    "\n",
    "from sklearn.model_selection import train_test_split\n",
    "from sklearn.linear_model import LinearRegression\n",
    "from sklearn import metrics\n",
    "from sklearn.metrics import mean_squared_error\n",
    "%matplotlib inline"
   ]
  },
  {
   "cell_type": "code",
   "execution_count": 2,
   "metadata": {},
   "outputs": [],
   "source": [
    "\n",
    "from sklearn.linear_model import LinearRegression, Lasso, Ridge, BayesianRidge, ElasticNet, HuberRegressor\n",
    "\n",
    "from sklearn.tree import DecisionTreeRegressor\n",
    "from sklearn.ensemble import RandomForestRegressor, AdaBoostRegressor, GradientBoostingRegressor\n",
    "\n",
    "from sklearn.neighbors import KNeighborsRegressor\n",
    "from sklearn.svm import SVR"
   ]
  },
  {
   "cell_type": "code",
   "execution_count": 3,
   "metadata": {},
   "outputs": [
    {
     "output_type": "execute_result",
     "data": {
      "text/plain": "   fixed acidity  volatile acidity  citric acid  residual sugar  chlorides  \\\n0            7.4              0.70         0.00             1.9      0.076   \n1            7.8              0.88         0.00             2.6      0.098   \n2            7.8              0.76         0.04             2.3      0.092   \n3           11.2              0.28         0.56             1.9      0.075   \n4            7.4              0.70         0.00             1.9      0.076   \n\n   free sulfur dioxide  total sulfur dioxide  density    pH  sulphates  \\\n0                 11.0                  34.0   0.9978  3.51       0.56   \n1                 25.0                  67.0   0.9968  3.20       0.68   \n2                 15.0                  54.0   0.9970  3.26       0.65   \n3                 17.0                  60.0   0.9980  3.16       0.58   \n4                 11.0                  34.0   0.9978  3.51       0.56   \n\n   alcohol  quality  \n0      9.4        5  \n1      9.8        5  \n2      9.8        5  \n3      9.8        6  \n4      9.4        5  ",
      "text/html": "<div>\n<style scoped>\n    .dataframe tbody tr th:only-of-type {\n        vertical-align: middle;\n    }\n\n    .dataframe tbody tr th {\n        vertical-align: top;\n    }\n\n    .dataframe thead th {\n        text-align: right;\n    }\n</style>\n<table border=\"1\" class=\"dataframe\">\n  <thead>\n    <tr style=\"text-align: right;\">\n      <th></th>\n      <th>fixed acidity</th>\n      <th>volatile acidity</th>\n      <th>citric acid</th>\n      <th>residual sugar</th>\n      <th>chlorides</th>\n      <th>free sulfur dioxide</th>\n      <th>total sulfur dioxide</th>\n      <th>density</th>\n      <th>pH</th>\n      <th>sulphates</th>\n      <th>alcohol</th>\n      <th>quality</th>\n    </tr>\n  </thead>\n  <tbody>\n    <tr>\n      <th>0</th>\n      <td>7.4</td>\n      <td>0.70</td>\n      <td>0.00</td>\n      <td>1.9</td>\n      <td>0.076</td>\n      <td>11.0</td>\n      <td>34.0</td>\n      <td>0.9978</td>\n      <td>3.51</td>\n      <td>0.56</td>\n      <td>9.4</td>\n      <td>5</td>\n    </tr>\n    <tr>\n      <th>1</th>\n      <td>7.8</td>\n      <td>0.88</td>\n      <td>0.00</td>\n      <td>2.6</td>\n      <td>0.098</td>\n      <td>25.0</td>\n      <td>67.0</td>\n      <td>0.9968</td>\n      <td>3.20</td>\n      <td>0.68</td>\n      <td>9.8</td>\n      <td>5</td>\n    </tr>\n    <tr>\n      <th>2</th>\n      <td>7.8</td>\n      <td>0.76</td>\n      <td>0.04</td>\n      <td>2.3</td>\n      <td>0.092</td>\n      <td>15.0</td>\n      <td>54.0</td>\n      <td>0.9970</td>\n      <td>3.26</td>\n      <td>0.65</td>\n      <td>9.8</td>\n      <td>5</td>\n    </tr>\n    <tr>\n      <th>3</th>\n      <td>11.2</td>\n      <td>0.28</td>\n      <td>0.56</td>\n      <td>1.9</td>\n      <td>0.075</td>\n      <td>17.0</td>\n      <td>60.0</td>\n      <td>0.9980</td>\n      <td>3.16</td>\n      <td>0.58</td>\n      <td>9.8</td>\n      <td>6</td>\n    </tr>\n    <tr>\n      <th>4</th>\n      <td>7.4</td>\n      <td>0.70</td>\n      <td>0.00</td>\n      <td>1.9</td>\n      <td>0.076</td>\n      <td>11.0</td>\n      <td>34.0</td>\n      <td>0.9978</td>\n      <td>3.51</td>\n      <td>0.56</td>\n      <td>9.4</td>\n      <td>5</td>\n    </tr>\n  </tbody>\n</table>\n</div>"
     },
     "metadata": {},
     "execution_count": 3
    }
   ],
   "source": [
    "df=pd.read_csv('winequality.csv')\n",
    "df.head()"
   ]
  },
  {
   "cell_type": "code",
   "execution_count": 4,
   "metadata": {},
   "outputs": [],
   "source": [
    "x=df.drop(['quality'],axis=1)\n",
    "y=df['quality']"
   ]
  },
  {
   "cell_type": "code",
   "execution_count": 5,
   "metadata": {},
   "outputs": [],
   "source": [
    "x_train, x_test, y_train, y_test = train_test_split(x, y, test_size = 0.2, random_state = 0)"
   ]
  },
  {
   "cell_type": "code",
   "execution_count": 6,
   "metadata": {},
   "outputs": [
    {
     "output_type": "execute_result",
     "data": {
      "text/plain": "LinearRegression()"
     },
     "metadata": {},
     "execution_count": 6
    }
   ],
   "source": [
    "model = LinearRegression()\n",
    "model.fit(x_train, y_train)"
   ]
  },
  {
   "cell_type": "code",
   "execution_count": 7,
   "metadata": {},
   "outputs": [],
   "source": [
    "y_pred=model.predict(x_test)"
   ]
  },
  {
   "cell_type": "code",
   "execution_count": 8,
   "metadata": {},
   "outputs": [
    {
     "output_type": "execute_result",
     "data": {
      "text/plain": "          Evaluation Score\nMAE               0.469633\nMSE               0.384471\nRMSE              0.620057\nR2 Score          0.330000",
      "text/html": "<div>\n<style scoped>\n    .dataframe tbody tr th:only-of-type {\n        vertical-align: middle;\n    }\n\n    .dataframe tbody tr th {\n        vertical-align: top;\n    }\n\n    .dataframe thead th {\n        text-align: right;\n    }\n</style>\n<table border=\"1\" class=\"dataframe\">\n  <thead>\n    <tr style=\"text-align: right;\">\n      <th></th>\n      <th>Evaluation Score</th>\n    </tr>\n  </thead>\n  <tbody>\n    <tr>\n      <th>MAE</th>\n      <td>0.469633</td>\n    </tr>\n    <tr>\n      <th>MSE</th>\n      <td>0.384471</td>\n    </tr>\n    <tr>\n      <th>RMSE</th>\n      <td>0.620057</td>\n    </tr>\n    <tr>\n      <th>R2 Score</th>\n      <td>0.330000</td>\n    </tr>\n  </tbody>\n</table>\n</div>"
     },
     "metadata": {},
     "execution_count": 8
    }
   ],
   "source": [
    "pd.DataFrame(data=[metrics.mean_absolute_error(y_test, y_pred),metrics.mean_squared_error(y_test, y_pred), np.sqrt(metrics.mean_squared_error(y_test, y_pred)), round(metrics.r2_score(y_test, y_pred), 2)], index=['MAE','MSE','RMSE','R2 Score'], columns=['Evaluation Score'])"
   ]
  },
  {
   "cell_type": "code",
   "execution_count": 9,
   "metadata": {
    "tags": []
   },
   "outputs": [
    {
     "output_type": "stream",
     "name": "stdout",
     "text": "OLS Regression Results                                \n=======================================================================================\nDep. Variable:                quality   R-squared (uncentered):                   0.987\nModel:                            OLS   Adj. R-squared (uncentered):              0.987\nMethod:                 Least Squares   F-statistic:                          1.108e+04\nDate:                Mon, 10 Aug 2020   Prob (F-statistic):                        0.00\nTime:                        09:06:19   Log-Likelihood:                         -1569.7\nNo. Observations:                1599   AIC:                                      3161.\nDf Residuals:                    1588   BIC:                                      3221.\nDf Model:                          11                                                  \nCovariance Type:            nonrobust                                                  \n========================================================================================\n                           coef    std err          t      P>|t|      [0.025      0.975]\n----------------------------------------------------------------------------------------\nfixed acidity            0.0042      0.016      0.255      0.799      -0.028       0.036\nvolatile acidity        -1.0997      0.120     -9.157      0.000      -1.335      -0.864\ncitric acid             -0.1841      0.147     -1.251      0.211      -0.473       0.105\nresidual sugar           0.0071      0.012      0.587      0.557      -0.017       0.031\nchlorides               -1.9114      0.418     -4.575      0.000      -2.731      -1.092\nfree sulfur dioxide      0.0045      0.002      2.102      0.036       0.000       0.009\ntotal sulfur dioxide    -0.0033      0.001     -4.565      0.000      -0.005      -0.002\ndensity                  4.5291      0.625      7.243      0.000       3.303       5.756\npH                      -0.5229      0.160     -3.268      0.001      -0.837      -0.209\nsulphates                0.8871      0.111      8.006      0.000       0.670       1.104\nalcohol                  0.2970      0.017     17.217      0.000       0.263       0.331\n==============================================================================\nOmnibus:                       25.388   Durbin-Watson:                   1.754\nProb(Omnibus):                  0.000   Jarque-Bera (JB):               37.530\nSkew:                          -0.159   Prob(JB):                     7.09e-09\nKurtosis:                       3.680   Cond. No.                     2.47e+03\n==============================================================================\n\nWarnings:\n[1] Standard Errors assume that the covariance matrix of the errors is correctly specified.\n[2] The condition number is large, 2.47e+03. This might indicate that there are\nstrong multicollinearity or other numerical problems.\n"
    }
   ],
   "source": [
    "X_stat = sm.add_constant(x)\n",
    "\n",
    "model_OLS = sm.OLS(y, x).fit()\n",
    "print(model_OLS.summary())"
   ]
  },
  {
   "cell_type": "code",
   "execution_count": 10,
   "metadata": {},
   "outputs": [],
   "source": [
    "models = [\n",
    "    ['Linear Regression', LinearRegression()],\n",
    "    ['ElasticNet', ElasticNet()],\n",
    "    ['Lasso', Lasso()],\n",
    "    ['Ridge', Ridge()],\n",
    "    ['DecisionTree', DecisionTreeRegressor()],\n",
    "    ['RandomForest', RandomForestRegressor()],\n",
    "    \n",
    "    ['KNeighbours', KNeighborsRegressor(n_neighbors = 2)],\n",
    "    ['SVM', SVR()],\n",
    "    ['AdaBoost', AdaBoostRegressor()],\n",
    "    ['GradientBoosting', GradientBoostingRegressor()],\n",
    "    ['BayesianRidge', BayesianRidge()],\n",
    "    ['Huber', HuberRegressor()]\n",
    "]"
   ]
  },
  {
   "cell_type": "code",
   "execution_count": 15,
   "metadata": {
    "tags": []
   },
   "outputs": [],
   "source": [
    "RMSE_score=[]\n",
    "for name, model in models:\n",
    "    model = model\n",
    "    model.fit(x_train, y_train)\n",
    "    predictions = model.predict(x_test)\n",
    "    RMSE_score.append([name,(np.sqrt(mean_squared_error(y_test, predictions)))/y_test.mean()*100])"
   ]
  },
  {
   "cell_type": "code",
   "execution_count": 16,
   "metadata": {},
   "outputs": [
    {
     "output_type": "execute_result",
     "data": {
      "text/plain": "                 name      score\n0   Linear Regression  11.084825\n1          ElasticNet  13.318852\n2               Lasso  13.328164\n3               Ridge  11.058347\n4        DecisionTree  14.482102\n5        RandomForest  10.169744\n6         KNeighbours  14.168373\n7                 SVM  12.311275\n8            AdaBoost  11.222407\n9    GradientBoosting  10.844303\n10      BayesianRidge  11.058473\n11              Huber  11.274905",
      "text/html": "<div>\n<style scoped>\n    .dataframe tbody tr th:only-of-type {\n        vertical-align: middle;\n    }\n\n    .dataframe tbody tr th {\n        vertical-align: top;\n    }\n\n    .dataframe thead th {\n        text-align: right;\n    }\n</style>\n<table border=\"1\" class=\"dataframe\">\n  <thead>\n    <tr style=\"text-align: right;\">\n      <th></th>\n      <th>name</th>\n      <th>score</th>\n    </tr>\n  </thead>\n  <tbody>\n    <tr>\n      <th>0</th>\n      <td>Linear Regression</td>\n      <td>11.084825</td>\n    </tr>\n    <tr>\n      <th>1</th>\n      <td>ElasticNet</td>\n      <td>13.318852</td>\n    </tr>\n    <tr>\n      <th>2</th>\n      <td>Lasso</td>\n      <td>13.328164</td>\n    </tr>\n    <tr>\n      <th>3</th>\n      <td>Ridge</td>\n      <td>11.058347</td>\n    </tr>\n    <tr>\n      <th>4</th>\n      <td>DecisionTree</td>\n      <td>14.482102</td>\n    </tr>\n    <tr>\n      <th>5</th>\n      <td>RandomForest</td>\n      <td>10.169744</td>\n    </tr>\n    <tr>\n      <th>6</th>\n      <td>KNeighbours</td>\n      <td>14.168373</td>\n    </tr>\n    <tr>\n      <th>7</th>\n      <td>SVM</td>\n      <td>12.311275</td>\n    </tr>\n    <tr>\n      <th>8</th>\n      <td>AdaBoost</td>\n      <td>11.222407</td>\n    </tr>\n    <tr>\n      <th>9</th>\n      <td>GradientBoosting</td>\n      <td>10.844303</td>\n    </tr>\n    <tr>\n      <th>10</th>\n      <td>BayesianRidge</td>\n      <td>11.058473</td>\n    </tr>\n    <tr>\n      <th>11</th>\n      <td>Huber</td>\n      <td>11.274905</td>\n    </tr>\n  </tbody>\n</table>\n</div>"
     },
     "metadata": {},
     "execution_count": 16
    }
   ],
   "source": [
    "pd.DataFrame(RMSE_score, columns=['name','score'])"
   ]
  },
  {
   "cell_type": "code",
   "execution_count": 13,
   "metadata": {},
   "outputs": [],
   "source": [
    "x=df[['alcohol','sulphates','pH','density','chlorides']]\n",
    "y=df['quality']"
   ]
  },
  {
   "cell_type": "code",
   "execution_count": 14,
   "metadata": {},
   "outputs": [],
   "source": [
    "x_train, x_test, y_train, y_test = train_test_split(x, y, test_size = 0.2, random_state = 0)"
   ]
  },
  {
   "cell_type": "code",
   "execution_count": 15,
   "metadata": {},
   "outputs": [],
   "source": [
    "model = LinearRegression()\n",
    "model.fit(x_train, y_train)\n",
    "y_pred=model.predict(x_test)"
   ]
  },
  {
   "cell_type": "code",
   "execution_count": 16,
   "metadata": {},
   "outputs": [
    {
     "output_type": "execute_result",
     "data": {
      "text/plain": "          Evaluation Score\nMAE               0.487705\nMSE               0.396327\nRMSE              0.629545\nR2 Score          0.310000",
      "text/html": "<div>\n<style scoped>\n    .dataframe tbody tr th:only-of-type {\n        vertical-align: middle;\n    }\n\n    .dataframe tbody tr th {\n        vertical-align: top;\n    }\n\n    .dataframe thead th {\n        text-align: right;\n    }\n</style>\n<table border=\"1\" class=\"dataframe\">\n  <thead>\n    <tr style=\"text-align: right;\">\n      <th></th>\n      <th>Evaluation Score</th>\n    </tr>\n  </thead>\n  <tbody>\n    <tr>\n      <th>MAE</th>\n      <td>0.487705</td>\n    </tr>\n    <tr>\n      <th>MSE</th>\n      <td>0.396327</td>\n    </tr>\n    <tr>\n      <th>RMSE</th>\n      <td>0.629545</td>\n    </tr>\n    <tr>\n      <th>R2 Score</th>\n      <td>0.310000</td>\n    </tr>\n  </tbody>\n</table>\n</div>"
     },
     "metadata": {},
     "execution_count": 16
    }
   ],
   "source": [
    "pd.DataFrame(data=[metrics.mean_absolute_error(y_test, y_pred),metrics.mean_squared_error(y_test, y_pred), np.sqrt(metrics.mean_squared_error(y_test, y_pred)), round(metrics.r2_score(y_test, y_pred), 2)], index=['MAE','MSE','RMSE','R2 Score'], columns=['Evaluation Score'])"
   ]
  },
  {
   "cell_type": "code",
   "execution_count": 17,
   "metadata": {
    "tags": []
   },
   "outputs": [
    {
     "output_type": "stream",
     "name": "stdout",
     "text": "OLS Regression Results                                \n=======================================================================================\nDep. Variable:                quality   R-squared (uncentered):                   0.986\nModel:                            OLS   Adj. R-squared (uncentered):              0.986\nMethod:                 Least Squares   F-statistic:                          2.241e+04\nDate:                Fri, 07 Aug 2020   Prob (F-statistic):                        0.00\nTime:                        10:58:25   Log-Likelihood:                         -1638.9\nNo. Observations:                1599   AIC:                                      3288.\nDf Residuals:                    1594   BIC:                                      3315.\nDf Model:                           5                                                  \nCovariance Type:            nonrobust                                                  \n==============================================================================\n                 coef    std err          t      P>|t|      [0.025      0.975]\n------------------------------------------------------------------------------\nalcohol        0.3436      0.017     20.480      0.000       0.311       0.376\nsulphates      1.1329      0.111     10.232      0.000       0.916       1.350\npH            -0.7426      0.115     -6.452      0.000      -0.968      -0.517\ndensity        4.0158      0.405      9.906      0.000       3.221       4.811\nchlorides     -2.6835      0.407     -6.588      0.000      -3.482      -1.885\n==============================================================================\nOmnibus:                       34.893   Durbin-Watson:                   1.745\nProb(Omnibus):                  0.000   Jarque-Bera (JB):               51.780\nSkew:                          -0.219   Prob(JB):                     5.70e-12\nKurtosis:                       3.765   Cond. No.                         304.\n==============================================================================\n\nWarnings:\n[1] Standard Errors assume that the covariance matrix of the errors is correctly specified.\n"
    }
   ],
   "source": [
    "X_stat = sm.add_constant(x)\n",
    "\n",
    "model_OLS = sm.OLS(y, x).fit()\n",
    "print(model_OLS.summary())"
   ]
  },
  {
   "cell_type": "code",
   "execution_count": 17,
   "metadata": {
    "tags": []
   },
   "outputs": [],
   "source": [
    "RMSE_score=[]\n",
    "for name, model in models:\n",
    "    model = model\n",
    "    model.fit(x_train, y_train)\n",
    "    predictions = model.predict(x_test)\n",
    "    RMSE_score.append([name,np.sqrt(mean_squared_error(y_test, predictions))/y_test.mean()*100])"
   ]
  },
  {
   "cell_type": "code",
   "execution_count": 18,
   "metadata": {},
   "outputs": [
    {
     "output_type": "execute_result",
     "data": {
      "text/plain": "                 name      score\n0   Linear Regression  11.084825\n1          ElasticNet  13.318852\n2               Lasso  13.328164\n3               Ridge  11.058347\n4        DecisionTree  14.822904\n5        RandomForest  10.119950\n6         KNeighbours  14.168373\n7                 SVM  12.311275\n8            AdaBoost  11.353547\n9    GradientBoosting  10.853362\n10      BayesianRidge  11.058473\n11              Huber  11.274905",
      "text/html": "<div>\n<style scoped>\n    .dataframe tbody tr th:only-of-type {\n        vertical-align: middle;\n    }\n\n    .dataframe tbody tr th {\n        vertical-align: top;\n    }\n\n    .dataframe thead th {\n        text-align: right;\n    }\n</style>\n<table border=\"1\" class=\"dataframe\">\n  <thead>\n    <tr style=\"text-align: right;\">\n      <th></th>\n      <th>name</th>\n      <th>score</th>\n    </tr>\n  </thead>\n  <tbody>\n    <tr>\n      <th>0</th>\n      <td>Linear Regression</td>\n      <td>11.084825</td>\n    </tr>\n    <tr>\n      <th>1</th>\n      <td>ElasticNet</td>\n      <td>13.318852</td>\n    </tr>\n    <tr>\n      <th>2</th>\n      <td>Lasso</td>\n      <td>13.328164</td>\n    </tr>\n    <tr>\n      <th>3</th>\n      <td>Ridge</td>\n      <td>11.058347</td>\n    </tr>\n    <tr>\n      <th>4</th>\n      <td>DecisionTree</td>\n      <td>14.822904</td>\n    </tr>\n    <tr>\n      <th>5</th>\n      <td>RandomForest</td>\n      <td>10.119950</td>\n    </tr>\n    <tr>\n      <th>6</th>\n      <td>KNeighbours</td>\n      <td>14.168373</td>\n    </tr>\n    <tr>\n      <th>7</th>\n      <td>SVM</td>\n      <td>12.311275</td>\n    </tr>\n    <tr>\n      <th>8</th>\n      <td>AdaBoost</td>\n      <td>11.353547</td>\n    </tr>\n    <tr>\n      <th>9</th>\n      <td>GradientBoosting</td>\n      <td>10.853362</td>\n    </tr>\n    <tr>\n      <th>10</th>\n      <td>BayesianRidge</td>\n      <td>11.058473</td>\n    </tr>\n    <tr>\n      <th>11</th>\n      <td>Huber</td>\n      <td>11.274905</td>\n    </tr>\n  </tbody>\n</table>\n</div>"
     },
     "metadata": {},
     "execution_count": 18
    }
   ],
   "source": [
    "pd.DataFrame(RMSE_score, columns=['name','score'])"
   ]
  },
  {
   "cell_type": "code",
   "execution_count": null,
   "metadata": {},
   "outputs": [],
   "source": []
  }
 ]
}