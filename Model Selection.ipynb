{
 "metadata": {
  "language_info": {
   "codemirror_mode": {
    "name": "ipython",
    "version": 3
   },
   "file_extension": ".py",
   "mimetype": "text/x-python",
   "name": "python",
   "nbconvert_exporter": "python",
   "pygments_lexer": "ipython3",
   "version": "3.8.4-final"
  },
  "orig_nbformat": 2,
  "kernelspec": {
   "name": "python_defaultSpec_1598103557118",
   "display_name": "Python 3.8.4 64-bit"
  }
 },
 "nbformat": 4,
 "nbformat_minor": 2,
 "cells": [
  {
   "cell_type": "code",
   "execution_count": 72,
   "metadata": {},
   "outputs": [],
   "source": [
    "import pandas as pd\n",
    "import numpy as np\n",
    "import matplotlib.pyplot as plt\n",
    "import seaborn as sns\n",
    "\n",
    "import statsmodels.api as sm\n",
    "\n",
    "from sklearn.model_selection import train_test_split\n",
    "from sklearn.linear_model import LinearRegression\n",
    "from sklearn import metrics\n",
    "from sklearn.metrics import mean_squared_error\n",
    "%matplotlib inline\n",
    "\n",
    "from sklearn.model_selection import GridSearchCV"
   ]
  },
  {
   "cell_type": "code",
   "execution_count": 73,
   "metadata": {},
   "outputs": [],
   "source": [
    "\n",
    "from sklearn.linear_model import LinearRegression, Lasso, Ridge, BayesianRidge, ElasticNet, HuberRegressor\n",
    "\n",
    "from sklearn.tree import DecisionTreeRegressor\n",
    "from sklearn.ensemble import RandomForestRegressor, AdaBoostRegressor, GradientBoostingRegressor\n",
    "\n",
    "from sklearn.neighbors import KNeighborsRegressor\n",
    "from sklearn.svm import SVR"
   ]
  },
  {
   "cell_type": "code",
   "execution_count": 74,
   "metadata": {},
   "outputs": [
    {
     "output_type": "execute_result",
     "data": {
      "text/plain": "   fixed acidity  volatile acidity  citric acid  residual sugar  chlorides  \\\n0            7.4              0.70         0.00             1.9      0.076   \n1            7.8              0.88         0.00             2.6      0.098   \n2            7.8              0.76         0.04             2.3      0.092   \n3           11.2              0.28         0.56             1.9      0.075   \n4            7.4              0.70         0.00             1.9      0.076   \n\n   free sulfur dioxide  total sulfur dioxide  density    pH  sulphates  \\\n0                 11.0                  34.0   0.9978  3.51       0.56   \n1                 25.0                  67.0   0.9968  3.20       0.68   \n2                 15.0                  54.0   0.9970  3.26       0.65   \n3                 17.0                  60.0   0.9980  3.16       0.58   \n4                 11.0                  34.0   0.9978  3.51       0.56   \n\n   alcohol  quality  \n0      9.4        5  \n1      9.8        5  \n2      9.8        5  \n3      9.8        6  \n4      9.4        5  ",
      "text/html": "<div>\n<style scoped>\n    .dataframe tbody tr th:only-of-type {\n        vertical-align: middle;\n    }\n\n    .dataframe tbody tr th {\n        vertical-align: top;\n    }\n\n    .dataframe thead th {\n        text-align: right;\n    }\n</style>\n<table border=\"1\" class=\"dataframe\">\n  <thead>\n    <tr style=\"text-align: right;\">\n      <th></th>\n      <th>fixed acidity</th>\n      <th>volatile acidity</th>\n      <th>citric acid</th>\n      <th>residual sugar</th>\n      <th>chlorides</th>\n      <th>free sulfur dioxide</th>\n      <th>total sulfur dioxide</th>\n      <th>density</th>\n      <th>pH</th>\n      <th>sulphates</th>\n      <th>alcohol</th>\n      <th>quality</th>\n    </tr>\n  </thead>\n  <tbody>\n    <tr>\n      <th>0</th>\n      <td>7.4</td>\n      <td>0.70</td>\n      <td>0.00</td>\n      <td>1.9</td>\n      <td>0.076</td>\n      <td>11.0</td>\n      <td>34.0</td>\n      <td>0.9978</td>\n      <td>3.51</td>\n      <td>0.56</td>\n      <td>9.4</td>\n      <td>5</td>\n    </tr>\n    <tr>\n      <th>1</th>\n      <td>7.8</td>\n      <td>0.88</td>\n      <td>0.00</td>\n      <td>2.6</td>\n      <td>0.098</td>\n      <td>25.0</td>\n      <td>67.0</td>\n      <td>0.9968</td>\n      <td>3.20</td>\n      <td>0.68</td>\n      <td>9.8</td>\n      <td>5</td>\n    </tr>\n    <tr>\n      <th>2</th>\n      <td>7.8</td>\n      <td>0.76</td>\n      <td>0.04</td>\n      <td>2.3</td>\n      <td>0.092</td>\n      <td>15.0</td>\n      <td>54.0</td>\n      <td>0.9970</td>\n      <td>3.26</td>\n      <td>0.65</td>\n      <td>9.8</td>\n      <td>5</td>\n    </tr>\n    <tr>\n      <th>3</th>\n      <td>11.2</td>\n      <td>0.28</td>\n      <td>0.56</td>\n      <td>1.9</td>\n      <td>0.075</td>\n      <td>17.0</td>\n      <td>60.0</td>\n      <td>0.9980</td>\n      <td>3.16</td>\n      <td>0.58</td>\n      <td>9.8</td>\n      <td>6</td>\n    </tr>\n    <tr>\n      <th>4</th>\n      <td>7.4</td>\n      <td>0.70</td>\n      <td>0.00</td>\n      <td>1.9</td>\n      <td>0.076</td>\n      <td>11.0</td>\n      <td>34.0</td>\n      <td>0.9978</td>\n      <td>3.51</td>\n      <td>0.56</td>\n      <td>9.4</td>\n      <td>5</td>\n    </tr>\n  </tbody>\n</table>\n</div>"
     },
     "metadata": {},
     "execution_count": 74
    }
   ],
   "source": [
    "df=pd.read_csv('winequality.csv')\n",
    "df.head()"
   ]
  },
  {
   "cell_type": "code",
   "execution_count": 120,
   "metadata": {},
   "outputs": [],
   "source": [
    "x=df.drop(['quality'],axis=1).values\n",
    "y=df['quality'].values"
   ]
  },
  {
   "cell_type": "markdown",
   "metadata": {},
   "source": [
    "# evaluate models"
   ]
  },
  {
   "cell_type": "code",
   "execution_count": 16,
   "metadata": {},
   "outputs": [],
   "source": [
    "def evaluate(df,model):\n",
    "    x=df.drop(['quality'],axis=1)\n",
    "    y=df['quality']\n",
    "\n",
    "    x_train, x_test, y_train, y_test = train_test_split(x, y, test_size = 0.2, random_state = 0)\n",
    "    RMSE_score=[]\n",
    "    for name, model in model:\n",
    "        model = model\n",
    "        model.fit(x_train, y_train)\n",
    "        y_pred = model.predict(x_test)\n",
    "        RMSE_score.append([name,round((np.sqrt(mean_squared_error(y_test, y_pred)))/df['quality'].mean()*100,2),round(metrics.r2_score(y_test, y_pred), 2)])\n",
    "    return pd.DataFrame(RMSE_score, columns=['Name','RMSE', 'R Square'])"
   ]
  },
  {
   "cell_type": "markdown",
   "metadata": {},
   "source": [
    "All of the chosen models are regressor, since the features data type is continuous and the target can be assumed as continuous. Classifier models can also be used, but since the target data available only ranged from 3-8, when it full range is 1-10, using classifier will limit the prediction results on the available target data (prediction results will only ranged on 3-8).  \n",
    " \n",
    "I use regressor to see if I can interpolate the prediction, hence including the unavaible target in the prediction."
   ]
  },
  {
   "cell_type": "code",
   "execution_count": 17,
   "metadata": {},
   "outputs": [],
   "source": [
    "models = [\n",
    "    ['Linear Regression', LinearRegression()],\n",
    "    ['ElasticNet', ElasticNet()],\n",
    "    ['Lasso', Lasso()],\n",
    "    ['Ridge', Ridge()],\n",
    "    ['DecisionTree', DecisionTreeRegressor()],\n",
    "    ['RandomForest', RandomForestRegressor()],\n",
    "    \n",
    "    ['KNeighbours', KNeighborsRegressor(n_neighbors = 2)],\n",
    "    ['SVM', SVR()],\n",
    "    ['AdaBoost', AdaBoostRegressor()],\n",
    "    ['GradientBoosting', GradientBoostingRegressor()],\n",
    "    ['BayesianRidge', BayesianRidge()],\n",
    "    ['Huber', HuberRegressor()]\n",
    "]"
   ]
  },
  {
   "cell_type": "code",
   "execution_count": 18,
   "metadata": {},
   "outputs": [
    {
     "output_type": "execute_result",
     "data": {
      "text/plain": "                 Name   RMSE  R Square\n0   Linear Regression  11.00      0.33\n1          ElasticNet  13.22      0.03\n2               Lasso  13.23      0.03\n3               Ridge  10.98      0.33\n4        DecisionTree  14.64     -0.19\n5        RandomForest   9.98      0.45\n6         KNeighbours  14.06     -0.10\n7                 SVM  12.22      0.17\n8            AdaBoost  11.17      0.31\n9    GradientBoosting  10.77      0.36\n10      BayesianRidge  10.98      0.33\n11              Huber  11.19      0.31",
      "text/html": "<div>\n<style scoped>\n    .dataframe tbody tr th:only-of-type {\n        vertical-align: middle;\n    }\n\n    .dataframe tbody tr th {\n        vertical-align: top;\n    }\n\n    .dataframe thead th {\n        text-align: right;\n    }\n</style>\n<table border=\"1\" class=\"dataframe\">\n  <thead>\n    <tr style=\"text-align: right;\">\n      <th></th>\n      <th>Name</th>\n      <th>RMSE</th>\n      <th>R Square</th>\n    </tr>\n  </thead>\n  <tbody>\n    <tr>\n      <th>0</th>\n      <td>Linear Regression</td>\n      <td>11.00</td>\n      <td>0.33</td>\n    </tr>\n    <tr>\n      <th>1</th>\n      <td>ElasticNet</td>\n      <td>13.22</td>\n      <td>0.03</td>\n    </tr>\n    <tr>\n      <th>2</th>\n      <td>Lasso</td>\n      <td>13.23</td>\n      <td>0.03</td>\n    </tr>\n    <tr>\n      <th>3</th>\n      <td>Ridge</td>\n      <td>10.98</td>\n      <td>0.33</td>\n    </tr>\n    <tr>\n      <th>4</th>\n      <td>DecisionTree</td>\n      <td>14.64</td>\n      <td>-0.19</td>\n    </tr>\n    <tr>\n      <th>5</th>\n      <td>RandomForest</td>\n      <td>9.98</td>\n      <td>0.45</td>\n    </tr>\n    <tr>\n      <th>6</th>\n      <td>KNeighbours</td>\n      <td>14.06</td>\n      <td>-0.10</td>\n    </tr>\n    <tr>\n      <th>7</th>\n      <td>SVM</td>\n      <td>12.22</td>\n      <td>0.17</td>\n    </tr>\n    <tr>\n      <th>8</th>\n      <td>AdaBoost</td>\n      <td>11.17</td>\n      <td>0.31</td>\n    </tr>\n    <tr>\n      <th>9</th>\n      <td>GradientBoosting</td>\n      <td>10.77</td>\n      <td>0.36</td>\n    </tr>\n    <tr>\n      <th>10</th>\n      <td>BayesianRidge</td>\n      <td>10.98</td>\n      <td>0.33</td>\n    </tr>\n    <tr>\n      <th>11</th>\n      <td>Huber</td>\n      <td>11.19</td>\n      <td>0.31</td>\n    </tr>\n  </tbody>\n</table>\n</div>"
     },
     "metadata": {},
     "execution_count": 18
    }
   ],
   "source": [
    "#unprocessed data\n",
    "evaluate(df,models)"
   ]
  },
  {
   "cell_type": "code",
   "execution_count": 21,
   "metadata": {},
   "outputs": [
    {
     "output_type": "execute_result",
     "data": {
      "text/plain": "                 Name   RMSE  R Square\n0   Linear Regression  10.58      0.36\n1          ElasticNet  12.95      0.04\n2               Lasso  13.02      0.03\n3               Ridge  10.62      0.35\n4        DecisionTree  14.76     -0.25\n5        RandomForest  10.06      0.42\n6         KNeighbours  13.84     -0.10\n7                 SVM  12.10      0.16\n8            AdaBoost  10.64      0.35\n9    GradientBoosting  10.22      0.40\n10      BayesianRidge  10.61      0.36\n11              Huber  10.79      0.33",
      "text/html": "<div>\n<style scoped>\n    .dataframe tbody tr th:only-of-type {\n        vertical-align: middle;\n    }\n\n    .dataframe tbody tr th {\n        vertical-align: top;\n    }\n\n    .dataframe thead th {\n        text-align: right;\n    }\n</style>\n<table border=\"1\" class=\"dataframe\">\n  <thead>\n    <tr style=\"text-align: right;\">\n      <th></th>\n      <th>Name</th>\n      <th>RMSE</th>\n      <th>R Square</th>\n    </tr>\n  </thead>\n  <tbody>\n    <tr>\n      <th>0</th>\n      <td>Linear Regression</td>\n      <td>10.58</td>\n      <td>0.36</td>\n    </tr>\n    <tr>\n      <th>1</th>\n      <td>ElasticNet</td>\n      <td>12.95</td>\n      <td>0.04</td>\n    </tr>\n    <tr>\n      <th>2</th>\n      <td>Lasso</td>\n      <td>13.02</td>\n      <td>0.03</td>\n    </tr>\n    <tr>\n      <th>3</th>\n      <td>Ridge</td>\n      <td>10.62</td>\n      <td>0.35</td>\n    </tr>\n    <tr>\n      <th>4</th>\n      <td>DecisionTree</td>\n      <td>14.76</td>\n      <td>-0.25</td>\n    </tr>\n    <tr>\n      <th>5</th>\n      <td>RandomForest</td>\n      <td>10.06</td>\n      <td>0.42</td>\n    </tr>\n    <tr>\n      <th>6</th>\n      <td>KNeighbours</td>\n      <td>13.84</td>\n      <td>-0.10</td>\n    </tr>\n    <tr>\n      <th>7</th>\n      <td>SVM</td>\n      <td>12.10</td>\n      <td>0.16</td>\n    </tr>\n    <tr>\n      <th>8</th>\n      <td>AdaBoost</td>\n      <td>10.64</td>\n      <td>0.35</td>\n    </tr>\n    <tr>\n      <th>9</th>\n      <td>GradientBoosting</td>\n      <td>10.22</td>\n      <td>0.40</td>\n    </tr>\n    <tr>\n      <th>10</th>\n      <td>BayesianRidge</td>\n      <td>10.61</td>\n      <td>0.36</td>\n    </tr>\n    <tr>\n      <th>11</th>\n      <td>Huber</td>\n      <td>10.79</td>\n      <td>0.33</td>\n    </tr>\n  </tbody>\n</table>\n</div>"
     },
     "metadata": {},
     "execution_count": 21
    }
   ],
   "source": [
    "# drop outliers\n",
    "df2=pd.read_csv('df_dropoutlier.csv')\n",
    "df2=df2.drop('Unnamed: 0', axis=1)\n",
    "evaluate(df2,models)"
   ]
  },
  {
   "cell_type": "code",
   "execution_count": 64,
   "metadata": {},
   "outputs": [
    {
     "output_type": "execute_result",
     "data": {
      "text/plain": "                 Name   RMSE  R Square\n0   Linear Regression  10.89      0.34\n1          ElasticNet  13.46     -0.00\n2               Lasso  13.46     -0.00\n3               Ridge  10.87      0.34\n4        DecisionTree  14.51     -0.17\n5        RandomForest  10.03      0.44\n6         KNeighbours  12.73      0.10\n7                 SVM  10.93      0.34\n8            AdaBoost  11.17      0.31\n9    GradientBoosting  10.80      0.35\n10      BayesianRidge  10.87      0.34\n11              Huber  10.87      0.34",
      "text/html": "<div>\n<style scoped>\n    .dataframe tbody tr th:only-of-type {\n        vertical-align: middle;\n    }\n\n    .dataframe tbody tr th {\n        vertical-align: top;\n    }\n\n    .dataframe thead th {\n        text-align: right;\n    }\n</style>\n<table border=\"1\" class=\"dataframe\">\n  <thead>\n    <tr style=\"text-align: right;\">\n      <th></th>\n      <th>Name</th>\n      <th>RMSE</th>\n      <th>R Square</th>\n    </tr>\n  </thead>\n  <tbody>\n    <tr>\n      <th>0</th>\n      <td>Linear Regression</td>\n      <td>10.89</td>\n      <td>0.34</td>\n    </tr>\n    <tr>\n      <th>1</th>\n      <td>ElasticNet</td>\n      <td>13.46</td>\n      <td>-0.00</td>\n    </tr>\n    <tr>\n      <th>2</th>\n      <td>Lasso</td>\n      <td>13.46</td>\n      <td>-0.00</td>\n    </tr>\n    <tr>\n      <th>3</th>\n      <td>Ridge</td>\n      <td>10.87</td>\n      <td>0.34</td>\n    </tr>\n    <tr>\n      <th>4</th>\n      <td>DecisionTree</td>\n      <td>14.51</td>\n      <td>-0.17</td>\n    </tr>\n    <tr>\n      <th>5</th>\n      <td>RandomForest</td>\n      <td>10.03</td>\n      <td>0.44</td>\n    </tr>\n    <tr>\n      <th>6</th>\n      <td>KNeighbours</td>\n      <td>12.73</td>\n      <td>0.10</td>\n    </tr>\n    <tr>\n      <th>7</th>\n      <td>SVM</td>\n      <td>10.93</td>\n      <td>0.34</td>\n    </tr>\n    <tr>\n      <th>8</th>\n      <td>AdaBoost</td>\n      <td>11.17</td>\n      <td>0.31</td>\n    </tr>\n    <tr>\n      <th>9</th>\n      <td>GradientBoosting</td>\n      <td>10.80</td>\n      <td>0.35</td>\n    </tr>\n    <tr>\n      <th>10</th>\n      <td>BayesianRidge</td>\n      <td>10.87</td>\n      <td>0.34</td>\n    </tr>\n    <tr>\n      <th>11</th>\n      <td>Huber</td>\n      <td>10.87</td>\n      <td>0.34</td>\n    </tr>\n  </tbody>\n</table>\n</div>"
     },
     "metadata": {},
     "execution_count": 64
    }
   ],
   "source": [
    "# rescale with log\n",
    "df3=pd.read_csv('df_log.csv')\n",
    "df3=df3.drop('Unnamed: 0', axis=1)\n",
    "df3['quality']= df['quality']\n",
    "evaluate(df3,models)"
   ]
  },
  {
   "cell_type": "code",
   "execution_count": 63,
   "metadata": {},
   "outputs": [
    {
     "output_type": "execute_result",
     "data": {
      "text/plain": "                 Name   RMSE  R Square\n0   Linear Regression  10.90      0.34\n1          ElasticNet  13.46     -0.00\n2               Lasso  13.46     -0.00\n3               Ridge  10.90      0.34\n4        DecisionTree  13.96     -0.08\n5        RandomForest  10.07      0.44\n6         KNeighbours  13.38      0.01\n7                 SVM  11.13      0.31\n8            AdaBoost  11.24      0.30\n9    GradientBoosting  10.77      0.36\n10      BayesianRidge  10.89      0.34\n11              Huber  10.94      0.34",
      "text/html": "<div>\n<style scoped>\n    .dataframe tbody tr th:only-of-type {\n        vertical-align: middle;\n    }\n\n    .dataframe tbody tr th {\n        vertical-align: top;\n    }\n\n    .dataframe thead th {\n        text-align: right;\n    }\n</style>\n<table border=\"1\" class=\"dataframe\">\n  <thead>\n    <tr style=\"text-align: right;\">\n      <th></th>\n      <th>Name</th>\n      <th>RMSE</th>\n      <th>R Square</th>\n    </tr>\n  </thead>\n  <tbody>\n    <tr>\n      <th>0</th>\n      <td>Linear Regression</td>\n      <td>10.90</td>\n      <td>0.34</td>\n    </tr>\n    <tr>\n      <th>1</th>\n      <td>ElasticNet</td>\n      <td>13.46</td>\n      <td>-0.00</td>\n    </tr>\n    <tr>\n      <th>2</th>\n      <td>Lasso</td>\n      <td>13.46</td>\n      <td>-0.00</td>\n    </tr>\n    <tr>\n      <th>3</th>\n      <td>Ridge</td>\n      <td>10.90</td>\n      <td>0.34</td>\n    </tr>\n    <tr>\n      <th>4</th>\n      <td>DecisionTree</td>\n      <td>13.96</td>\n      <td>-0.08</td>\n    </tr>\n    <tr>\n      <th>5</th>\n      <td>RandomForest</td>\n      <td>10.07</td>\n      <td>0.44</td>\n    </tr>\n    <tr>\n      <th>6</th>\n      <td>KNeighbours</td>\n      <td>13.38</td>\n      <td>0.01</td>\n    </tr>\n    <tr>\n      <th>7</th>\n      <td>SVM</td>\n      <td>11.13</td>\n      <td>0.31</td>\n    </tr>\n    <tr>\n      <th>8</th>\n      <td>AdaBoost</td>\n      <td>11.24</td>\n      <td>0.30</td>\n    </tr>\n    <tr>\n      <th>9</th>\n      <td>GradientBoosting</td>\n      <td>10.77</td>\n      <td>0.36</td>\n    </tr>\n    <tr>\n      <th>10</th>\n      <td>BayesianRidge</td>\n      <td>10.89</td>\n      <td>0.34</td>\n    </tr>\n    <tr>\n      <th>11</th>\n      <td>Huber</td>\n      <td>10.94</td>\n      <td>0.34</td>\n    </tr>\n  </tbody>\n</table>\n</div>"
     },
     "metadata": {},
     "execution_count": 63
    }
   ],
   "source": [
    "# rescale with squareroot\n",
    "df4=pd.read_csv('df_sqrt.csv')\n",
    "df4=df4.drop('Unnamed: 0', axis=1)\n",
    "df4['quality']= df['quality']\n",
    "evaluate(df4,models)"
   ]
  },
  {
   "cell_type": "code",
   "execution_count": 67,
   "metadata": {},
   "outputs": [
    {
     "output_type": "execute_result",
     "data": {
      "text/plain": "                 Name   RMSE  R Square\n0   Linear Regression  11.00      0.33\n1          ElasticNet  13.46     -0.00\n2               Lasso  13.46     -0.00\n3               Ridge  11.00      0.33\n4        DecisionTree  15.17     -0.28\n5        RandomForest  10.08      0.44\n6         KNeighbours  13.18      0.04\n7                 SVM  10.79      0.35\n8            AdaBoost  11.28      0.29\n9    GradientBoosting  10.75      0.36\n10      BayesianRidge  11.00      0.33\n11              Huber  11.10      0.32",
      "text/html": "<div>\n<style scoped>\n    .dataframe tbody tr th:only-of-type {\n        vertical-align: middle;\n    }\n\n    .dataframe tbody tr th {\n        vertical-align: top;\n    }\n\n    .dataframe thead th {\n        text-align: right;\n    }\n</style>\n<table border=\"1\" class=\"dataframe\">\n  <thead>\n    <tr style=\"text-align: right;\">\n      <th></th>\n      <th>Name</th>\n      <th>RMSE</th>\n      <th>R Square</th>\n    </tr>\n  </thead>\n  <tbody>\n    <tr>\n      <th>0</th>\n      <td>Linear Regression</td>\n      <td>11.00</td>\n      <td>0.33</td>\n    </tr>\n    <tr>\n      <th>1</th>\n      <td>ElasticNet</td>\n      <td>13.46</td>\n      <td>-0.00</td>\n    </tr>\n    <tr>\n      <th>2</th>\n      <td>Lasso</td>\n      <td>13.46</td>\n      <td>-0.00</td>\n    </tr>\n    <tr>\n      <th>3</th>\n      <td>Ridge</td>\n      <td>11.00</td>\n      <td>0.33</td>\n    </tr>\n    <tr>\n      <th>4</th>\n      <td>DecisionTree</td>\n      <td>15.17</td>\n      <td>-0.28</td>\n    </tr>\n    <tr>\n      <th>5</th>\n      <td>RandomForest</td>\n      <td>10.08</td>\n      <td>0.44</td>\n    </tr>\n    <tr>\n      <th>6</th>\n      <td>KNeighbours</td>\n      <td>13.18</td>\n      <td>0.04</td>\n    </tr>\n    <tr>\n      <th>7</th>\n      <td>SVM</td>\n      <td>10.79</td>\n      <td>0.35</td>\n    </tr>\n    <tr>\n      <th>8</th>\n      <td>AdaBoost</td>\n      <td>11.28</td>\n      <td>0.29</td>\n    </tr>\n    <tr>\n      <th>9</th>\n      <td>GradientBoosting</td>\n      <td>10.75</td>\n      <td>0.36</td>\n    </tr>\n    <tr>\n      <th>10</th>\n      <td>BayesianRidge</td>\n      <td>11.00</td>\n      <td>0.33</td>\n    </tr>\n    <tr>\n      <th>11</th>\n      <td>Huber</td>\n      <td>11.10</td>\n      <td>0.32</td>\n    </tr>\n  </tbody>\n</table>\n</div>"
     },
     "metadata": {},
     "execution_count": 67
    }
   ],
   "source": [
    "# robust scaled\n",
    "df5=pd.read_csv('df_rbscal.csv')\n",
    "df5=df5.drop('Unnamed: 0', axis=1)\n",
    "evaluate(df5,models)"
   ]
  },
  {
   "cell_type": "markdown",
   "metadata": {},
   "source": [
    "The best evaluation result is when the data is unprocessed. Random forest regressor consistently gives the best evaluation (lowest error, highest R square). "
   ]
  },
  {
   "cell_type": "markdown",
   "metadata": {},
   "source": [
    "# Tunning"
   ]
  },
  {
   "cell_type": "markdown",
   "metadata": {},
   "source": [
    "## Random Forest"
   ]
  },
  {
   "cell_type": "code",
   "execution_count": 97,
   "metadata": {},
   "outputs": [],
   "source": [
    "x=df.drop(['quality'],axis=1)\n",
    "y=df['quality']\n",
    "\n",
    "x_train, x_test, y_train, y_test = train_test_split(x, y, test_size = 0.2, random_state = 0)"
   ]
  },
  {
   "cell_type": "code",
   "execution_count": 71,
   "metadata": {
    "tags": []
   },
   "outputs": [
    {
     "output_type": "stream",
     "name": "stdout",
     "text": "5    546\n6    496\n7    172\n4     42\n8     15\n3      8\nName: quality, dtype: int64\n6    142\n5    135\n7     27\n4     11\n8      3\n3      2\nName: quality, dtype: int64\n"
    }
   ],
   "source": [
    "print(y_train.value_counts())\n",
    "print(y_test.value_counts())"
   ]
  },
  {
   "cell_type": "code",
   "execution_count": 28,
   "metadata": {},
   "outputs": [
    {
     "output_type": "execute_result",
     "data": {
      "text/plain": "{'criterion': ['mae', 'mse'],\n 'max_depth': [2, 5, 10, 15, 20, 50, 100],\n 'min_samples_split': [1, 2, 5, 10, 20, 50, 100, 250],\n 'min_samples_leaf': [1, 2, 5, 10, 20, 50, 100, 250],\n 'max_features': ['auto', 'sqrt', 'log2']}"
     },
     "metadata": {},
     "execution_count": 28
    }
   ],
   "source": [
    "criterion=['mae', 'mse']\n",
    "max_depth=[2,5,10,15,20,50,100] #kedalaman pohon\n",
    "min_samples_split=[1,2,5,10,20,50,100,250] #jumlah minimal sample sebelum dibagi lagi\n",
    "min_samples_leaf=[1,2,5,10,20,50,100,250]# jumlah minimal sample per subset data\n",
    "max_features=['auto', 'sqrt', 'log2'] # jumlah feature yang dipertimbangkan dalam mencari pembagian data terbaik\n",
    "\n",
    "param_rf={'criterion':criterion,'max_depth':max_depth,'min_samples_split':min_samples_split, 'min_samples_leaf':min_samples_leaf,'max_features':max_features}\n",
    "\n",
    "param_rf"
   ]
  },
  {
   "cell_type": "code",
   "execution_count": 26,
   "metadata": {},
   "outputs": [],
   "source": [
    "model_rf=RandomForestRegressor()\n",
    "model_rf_gs=GridSearchCV(estimator=model_rf,param_grid= param_rf, cv=5)\n",
    "model_rf_gs.fit(x_train, y_train)\n",
    "model_rf_gs.best_params_"
   ]
  },
  {
   "cell_type": "code",
   "execution_count": 84,
   "metadata": {},
   "outputs": [
    {
     "output_type": "execute_result",
     "data": {
      "text/plain": "          Score\nRMSE       9.85\nR Square   0.46",
      "text/html": "<div>\n<style scoped>\n    .dataframe tbody tr th:only-of-type {\n        vertical-align: middle;\n    }\n\n    .dataframe tbody tr th {\n        vertical-align: top;\n    }\n\n    .dataframe thead th {\n        text-align: right;\n    }\n</style>\n<table border=\"1\" class=\"dataframe\">\n  <thead>\n    <tr style=\"text-align: right;\">\n      <th></th>\n      <th>Score</th>\n    </tr>\n  </thead>\n  <tbody>\n    <tr>\n      <th>RMSE</th>\n      <td>9.85</td>\n    </tr>\n    <tr>\n      <th>R Square</th>\n      <td>0.46</td>\n    </tr>\n  </tbody>\n</table>\n</div>"
     },
     "metadata": {},
     "execution_count": 84
    }
   ],
   "source": [
    "model=RandomForestRegressor(criterion ='mse',\n",
    " max_depth= 100,\n",
    " max_features= 'log2',\n",
    " min_samples_leaf= 1,\n",
    " min_samples_split= 2)\n",
    "\n",
    "model.fit(x_train, y_train)\n",
    "y_pred = model.predict(x_test)\n",
    "pd.DataFrame([round((np.sqrt(mean_squared_error(y_test, y_pred)))/df['quality'].mean()*100,2),round(metrics.r2_score(y_test, y_pred), 2)], columns= ['Score'],index=['RMSE','R Square'])"
   ]
  },
  {
   "cell_type": "markdown",
   "metadata": {},
   "source": [
    "## ridge regression"
   ]
  },
  {
   "cell_type": "code",
   "execution_count": 81,
   "metadata": {},
   "outputs": [
    {
     "output_type": "execute_result",
     "data": {
      "text/plain": "{'alpha': [0.1, 0.5, 1, 2, 5, 10],\n 'max_iter': [None, 10, 100, 1000],\n 'solver': ['auto', 'svd', 'cholesky', 'lsqr', 'sparse_cg', 'sag', 'saga'],\n 'fit_intercept': [True, False]}"
     },
     "metadata": {},
     "execution_count": 81
    }
   ],
   "source": [
    "alpha= [0.1,0.5,1,2,5,10]\n",
    "solver=['auto', 'svd', 'cholesky', 'lsqr', 'sparse_cg', 'sag', 'saga']\n",
    "max_iter=[None, 10,100,1000]\n",
    "fit_intercept=[True,False]\n",
    "param_rr={'alpha':alpha, 'max_iter':max_iter,'solver':solver, 'fit_intercept':fit_intercept}\n",
    "\n",
    "param_rr"
   ]
  },
  {
   "cell_type": "code",
   "execution_count": 82,
   "metadata": {},
   "outputs": [
    {
     "output_type": "execute_result",
     "data": {
      "text/plain": "{'alpha': 1, 'fit_intercept': True, 'max_iter': None, 'solver': 'svd'}"
     },
     "metadata": {},
     "execution_count": 82
    }
   ],
   "source": [
    "model_rr=Ridge()\n",
    "model_rr_gs=GridSearchCV(estimator=model_rr,param_grid= param_rr, cv=5)\n",
    "model_rr_gs.fit(x_train, y_train)\n",
    "model_rr_gs.best_params_"
   ]
  },
  {
   "cell_type": "code",
   "execution_count": 79,
   "metadata": {},
   "outputs": [
    {
     "output_type": "execute_result",
     "data": {
      "text/plain": "          Score\nRMSE      10.98\nR Square   0.33",
      "text/html": "<div>\n<style scoped>\n    .dataframe tbody tr th:only-of-type {\n        vertical-align: middle;\n    }\n\n    .dataframe tbody tr th {\n        vertical-align: top;\n    }\n\n    .dataframe thead th {\n        text-align: right;\n    }\n</style>\n<table border=\"1\" class=\"dataframe\">\n  <thead>\n    <tr style=\"text-align: right;\">\n      <th></th>\n      <th>Score</th>\n    </tr>\n  </thead>\n  <tbody>\n    <tr>\n      <th>RMSE</th>\n      <td>10.98</td>\n    </tr>\n    <tr>\n      <th>R Square</th>\n      <td>0.33</td>\n    </tr>\n  </tbody>\n</table>\n</div>"
     },
     "metadata": {},
     "execution_count": 79
    }
   ],
   "source": [
    "model=Ridge(alpha=1, solver='svd')\n",
    "\n",
    "model.fit(x_train, y_train)\n",
    "y_pred = model.predict(x_test)\n",
    "pd.DataFrame([round((np.sqrt(mean_squared_error(y_test, y_pred)))/df['quality'].mean()*100,2),round(metrics.r2_score(y_test, y_pred), 2)], columns= ['Score'],index=['RMSE','R Square'])"
   ]
  },
  {
   "cell_type": "markdown",
   "metadata": {},
   "source": [
    "The tunning of Random Forest parameters further reduce the error of the model by 1 %. At first I was about to decide with Random Forest model, but further reading about the model told me that Random Forest prediction cannot be interpolated, hence, I will use Ridge regression model instead. I chose Ridge regression since this model is often use to handle data with multicolinearity, which is prevalent in my data.\n",
    "\n",
    "Ridge regression shows no improvement, meaning that the default parameters was already the best one."
   ]
  },
  {
   "cell_type": "markdown",
   "metadata": {},
   "source": [
    "## saving model"
   ]
  },
  {
   "cell_type": "code",
   "execution_count": 126,
   "metadata": {},
   "outputs": [
    {
     "output_type": "execute_result",
     "data": {
      "text/plain": "['modelRidge']"
     },
     "metadata": {},
     "execution_count": 126
    }
   ],
   "source": [
    "import joblib\n",
    "\n",
    "\n",
    "model=Ridge()\n",
    "\n",
    "model.fit(x_train, y_train)\n",
    "\n",
    "#simpan model\n",
    "\n",
    "joblib.dump(model, 'modelRidge')"
   ]
  },
  {
   "cell_type": "markdown",
   "metadata": {},
   "source": [
    "https://gdcoder.com/random-forest-regressor-explained-in-depth/\n",
    "\n",
    "https://gdcoder.com/decision-tree-regressor-explained-in-depth/\n",
    "\n",
    "https://scikit-learn.org/stable/modules/tree.html#tree\n",
    "\n",
    "https://scikit-learn.org/stable/modules/linear_model.html#ridge-regression\n",
    "\n",
    "https://www.statisticshowto.com/ridge-regression/"
   ]
  }
 ]
}